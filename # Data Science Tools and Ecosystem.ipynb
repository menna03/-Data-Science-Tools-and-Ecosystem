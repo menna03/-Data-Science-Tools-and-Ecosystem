{
 "cells": [
  {
   "cell_type": "markdown",
   "id": "7a917781",
   "metadata": {},
   "source": [
    "# Data Science Tools and Ecosystem"
   ]
  },
  {
   "cell_type": "markdown",
   "id": "4465d5ff",
   "metadata": {},
   "source": [
    "In this notebook, Data Science Tools and Ecosystem are summarized.\n"
   ]
  },
  {
   "cell_type": "markdown",
   "id": "d03918f4",
   "metadata": {},
   "source": [
    "**Some of the popular languages that Data Scientists use are:\n",
    "Python.**\n",
    "R.\n",
    "SQL.\n",
    "Java.\n",
    "Julia.\n",
    "Scala.\n",
    "C/C++\n",
    "JavaScript."
   ]
  },
  {
   "cell_type": "markdown",
   "id": "203d3173",
   "metadata": {},
   "source": [
    "**Some of the commonly used libraries used by Data Scientists include:**\n",
    "1.TensorFlow\n",
    "2.NumPy\n",
    "3.SciPy \n",
    "4.Pandas\n",
    "5.Matplotlib \n",
    "6.Keras\n",
    "7.SciKit-Learn\n",
    "8.PyTorch\n",
    "9.Scrapy\n",
    "10.BeautifulSoup"
   ]
  },
  {
   "cell_type": "markdown",
   "id": "c6515d68",
   "metadata": {},
   "source": [
    "**Data Science Tools**\n",
    ">TensorFlow.\n",
    ">NumPy.\n",
    ">SciPy.\n",
    ">Pandas.\n",
    ">Matplotlib.\n",
    ">Keras.\n",
    ">SciKit-Learn.\n",
    ">PyTorch."
   ]
  },
  {
   "cell_type": "markdown",
   "id": "87aa8c70",
   "metadata": {},
   "source": [
    "**Below are a few examples of evaluating arithmetic expressions in Python.**\n",
    "\n",
    ">>> eval(\"2 ** 8\")\n",
    "256\n",
    ">>> eval(\"1024 + 1024\")\n",
    "2048\n",
    ">>> eval(\"sum([8, 16, 32])\")\n",
    "56\n",
    ">>> x = 100\n",
    ">>> eval(\"x * 2\")\n",
    "200\n",
    ">>print(\"HI\")"
   ]
  },
  {
   "cell_type": "code",
   "execution_count": 1,
   "id": "8cc5e8dc",
   "metadata": {},
   "outputs": [
    {
     "data": {
      "text/plain": [
       "17"
      ]
     },
     "execution_count": 1,
     "metadata": {},
     "output_type": "execute_result"
    }
   ],
   "source": [
    "#**This a simple arithmetic expression to mutiply then add integers**\n",
    "(3*4)+5"
   ]
  },
  {
   "cell_type": "code",
   "execution_count": 2,
   "id": "d4573c56",
   "metadata": {},
   "outputs": [
    {
     "data": {
      "text/plain": [
       "3.3333333333333335"
      ]
     },
     "execution_count": 2,
     "metadata": {},
     "output_type": "execute_result"
    }
   ],
   "source": [
    "#This will convert 200 minutes to hours by diving by 60.\n",
    "200/60"
   ]
  },
  {
   "cell_type": "code",
   "execution_count": 4,
   "id": "6368a2bd",
   "metadata": {},
   "outputs": [],
   "source": [
    "#List popular languages for Data Science\n",
    "#Objectives:\n",
    "list =[\"R\",\"SQL.\",\"Java.\",\"Julia.\"]"
   ]
  },
  {
   "cell_type": "markdown",
   "id": "cb64f6fc",
   "metadata": {},
   "source": [
    "## MENNA\n",
    "Author"
   ]
  }
 ],
 "metadata": {
  "kernelspec": {
   "display_name": "Python 3 (ipykernel)",
   "language": "python",
   "name": "python3"
  },
  "language_info": {
   "codemirror_mode": {
    "name": "ipython",
    "version": 3
   },
   "file_extension": ".py",
   "mimetype": "text/x-python",
   "name": "python",
   "nbconvert_exporter": "python",
   "pygments_lexer": "ipython3",
   "version": "3.9.13"
  }
 },
 "nbformat": 4,
 "nbformat_minor": 5
}
